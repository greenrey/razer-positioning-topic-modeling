{
 "cells": [
  {
   "cell_type": "markdown",
   "id": "58d21e48",
   "metadata": {},
   "source": [
    "## 라이브러리 불러오기"
   ]
  },
  {
   "cell_type": "code",
   "execution_count": 1,
   "id": "539c2bae",
   "metadata": {},
   "outputs": [],
   "source": [
    "# 라이브러리 import\n",
    "import pandas as pd\n",
    "import time\n",
    "import datetime\n",
    "from selenium import webdriver\n",
    "from selenium.webdriver.common.by import By\n",
    "from selenium.webdriver.common.keys import Keys"
   ]
  },
  {
   "cell_type": "markdown",
   "id": "84162c7e",
   "metadata": {},
   "source": [
    "## 크롬으로 리뷰 창 열기"
   ]
  },
  {
   "cell_type": "code",
   "execution_count": 2,
   "id": "bb6c9883",
   "metadata": {},
   "outputs": [],
   "source": [
    "# 크롬 옵션 설정\n",
    "chrome_options=webdriver.ChromeOptions()\n",
    "chrome_options.add_argument('--incognito') #시크릿모드의 브라우저 실행\n",
    "chrome_options.add_argument('--no-sandbox') \n",
    "chrome_options.add_argument('--disable-setuid-sandbox')\n",
    "chrome_options.add_argument('--disable-dev-shm-usage')\n",
    "chrome_options.add_experimental_option('excludeSwitches', ['enable-logging'])"
   ]
  },
  {
   "cell_type": "code",
   "execution_count": 3,
   "id": "3c0b8e88",
   "metadata": {},
   "outputs": [],
   "source": [
    "# 제품 창 열기(url 입력)\n",
    "driver=webdriver.Chrome(options=chrome_options)\n",
    "driver.get('https://www.amazon.com/OMEN-HP-Display-i9-12900H-Graphics/dp/B0CJM1XDVZ/ref=sr_1_14?crid=2W1BXJ7DBTOF3&keywords=hp%2Bomen&qid=1700742518&sprefix=hp%2Bomen%2Caps%2C330&sr=8-14&th=1')"
   ]
  },
  {
   "cell_type": "markdown",
   "id": "4920deb7",
   "metadata": {},
   "source": [
    "***다음 셀을 실행하기 전에 크롬 창에서 로봇 방지 문자를 입력해야 하는지 확인해주세요.***"
   ]
  },
  {
   "cell_type": "code",
   "execution_count": 4,
   "id": "8d3d19ca",
   "metadata": {},
   "outputs": [],
   "source": [
    "# '리뷰 더 보기' 버튼 클릭\n",
    "option_button = driver.find_element(By.XPATH,'//*[@id=\"reviews-medley-footer\"]/div[2]/a')\n",
    "option_button.click()\n",
    "time.sleep(1.5)"
   ]
  },
  {
   "cell_type": "markdown",
   "id": "c345d78d",
   "metadata": {},
   "source": [
    "## 사용할 함수 정의"
   ]
  },
  {
   "cell_type": "code",
   "execution_count": 5,
   "id": "6ed2db8d",
   "metadata": {},
   "outputs": [],
   "source": [
    "# 사용자 id 가져오기\n",
    "def get_customer_id(i):\n",
    "    try: # 미국에서 작성된 리뷰\n",
    "        cu1 = driver.find_element(By.XPATH, f'/html/body/div[1]/div[2]/div/div[1]/div/div[1]/div[5]/div[3]/div/div[{i}]/div/div/div[1]/a')\n",
    "    except: # 그 외의 국가에서 작성된 리뷰\n",
    "        cu1 = driver.find_element(By.XPATH, f'/html/body/div[1]/div[2]/div/div[1]/div/div[1]/div[5]/div[3]/div/div[{i}]/div/div/div[1]/div')\n",
    "    \n",
    "    cu2 = cu1.text\n",
    "    \n",
    "    return cu2\n",
    "\n",
    "# 별점 가져오기\n",
    "def get_rating(i):\n",
    "    try: # 미국에서 작성된 리뷰\n",
    "        r1 = driver.find_element(By.XPATH, f'/html/body/div[1]/div[2]/div/div[1]/div/div[1]/div[5]/div[3]/div/div[{i}]/div/div/div[2]/a/i/span')\n",
    "    except: # 그 외의 국가에서 작성된 리뷰\n",
    "        r1 = driver.find_element(By.XPATH, f'/html/body/div[1]/div[2]/div/div[1]/div/div[1]/div[5]/div[3]/div/div[{i}]/div/div/div[2]/i/span')\n",
    "    \n",
    "    r2 = float(r1.get_attribute('innerText')[-3:])\n",
    "    \n",
    "    return r2\n",
    "\n",
    "# 리뷰 제목 가져오기\n",
    "def get_title(i):\n",
    "    try: # 미국에서 작성된 리뷰\n",
    "        t1 = driver.find_element(By.XPATH, f'/html/body/div[1]/div[2]/div/div[1]/div/div[1]/div[5]/div[3]/div/div[{i}]/div/div/div[2]/a/span[2]')\n",
    "    except: # 그 외의 국가에서 작성된 리뷰\n",
    "        t1 = driver.find_element(By.XPATH, f'/html/body/div[1]/div[2]/div/div[1]/div/div[1]/div[5]/div[3]/div/div[{i}]/div/div/div[2]/span[2]')\n",
    "            \n",
    "    t2 = t1.text\n",
    "    \n",
    "    return t2\n",
    "\n",
    "# 리뷰가 작성된 국가와 날짜 가져오기\n",
    "def get_country_date(i):\n",
    "    \n",
    "    d1 = driver.find_element(By.XPATH, f'/html/body/div[1]/div[2]/div/div[1]/div/div[1]/div[5]/div[3]/div/div[{i}]/div/div/span')\n",
    "    d2 = d1.text\n",
    "\n",
    "    ## country\n",
    "    country_index = d2.find('에서')\n",
    "    d3_country = d2[:country_index]\n",
    "\n",
    "    ## date\n",
    "    year_index = d2.find('년 ')\n",
    "    month_index = d2.find('월 ')\n",
    "    day_index = d2.find('일에 ')\n",
    "    year = int(d2[year_index-4:year_index])\n",
    "    month = int(d2[month_index-2:month_index])\n",
    "    day = int(d2[day_index-2:day_index])\n",
    "\n",
    "    d3_date = datetime.date(year, month, day).strftime(\"%Y-%m-%d\")\n",
    "\n",
    "    return d3_country, d3_date\n",
    "\n",
    "# 리뷰 내용 가져오기 \n",
    "def get_content(i):\n",
    "    co1 = driver.find_element(By.XPATH, f'/html/body/div[1]/div[2]/div/div[1]/div/div[1]/div[5]/div[3]/div/div[{i}]/div/div/div[4]/span')\n",
    "    co2 = co1.text\n",
    "    return co2\n",
    "\n",
    "# 리뷰가 유용하다고 평가한 사람 수 가져오기\n",
    "def get_helpful():\n",
    "    helpful = []\n",
    "    h_list = driver.find_elements(By.CLASS_NAME, 'cr-vote')\n",
    "    for h in h_list:\n",
    "        h1 = h.text\n",
    "        try:\n",
    "            end_idx = h1.find('명')\n",
    "            h2 = int(h1[:end_idx])\n",
    "            helpful.append(h2)\n",
    "        except:\n",
    "            helpful.append(0)\n",
    "    return helpful"
   ]
  },
  {
   "cell_type": "markdown",
   "id": "d9774b5f",
   "metadata": {},
   "source": [
    "## 리뷰 가져오기"
   ]
  },
  {
   "cell_type": "code",
   "execution_count": 6,
   "id": "07f57ddc",
   "metadata": {},
   "outputs": [],
   "source": [
    "# 데이터를 저장할 데이터프레임 생성\n",
    "df = pd.DataFrame({'customer_id': [], 'rating': [], 'title': [], 'country': [], 'date':[], 'content': [], 'helpful': []})"
   ]
  },
  {
   "cell_type": "code",
   "execution_count": null,
   "id": "2509b73e",
   "metadata": {},
   "outputs": [
    {
     "name": "stdout",
     "output_type": "stream",
     "text": [
      "--------------------\n",
      "5점 리뷰\n",
      "--------------------\n",
      "총 리뷰 개수: 118\n",
      "페이지 수: 10\n",
      "\n",
      "5 pages done\n"
     ]
    }
   ],
   "source": [
    "# 각 별점마다 필터링 해서 리뷰를 가져온다.\n",
    "for star in range(5):\n",
    "    driver.find_element(By.XPATH, '//*[@id=\"cm_cr-view_opt_sort_filter\"]/div[2]/div[2]/div[2]').click()\n",
    "    time.sleep(1.5)\n",
    "    \n",
    "    driver.find_element(By.XPATH, f'/html/body/div[3]/div/div/ul/li[{star+2}]').click()\n",
    "    time.sleep(1.5)\n",
    "    \n",
    "    print('-' * 20)\n",
    "    print(f'{5-star}점 리뷰')\n",
    "    print('-' * 20)\n",
    "    \n",
    "    # 리뷰 페이지 수\n",
    "    # 여기서 오류 발생 시, 아마존 사이트의 언어 설정이 한국어로 되어 있는지 확인해주세요.\n",
    "    count_text = driver.find_element(By.XPATH, '/html/body/div[1]/div[2]/div/div[1]/div/div[1]/div[4]')\n",
    "    start_index = count_text.text.find('평가개,')\n",
    "    end_index= count_text.text.find('리뷰개')\n",
    "    \n",
    "    count = int(count_text.text[start_index+4:end_index-1]) #  총 리뷰 개수\n",
    "    print('총 리뷰 개수:', count)\n",
    "    \n",
    "    if count > 100:\n",
    "        pages = 10\n",
    "    elif count % 10 == 0:\n",
    "        pages = count // 10 # 페이지 수\n",
    "    else:\n",
    "        pages = count // 10 + 1\n",
    "    print('페이지 수:', pages)\n",
    "    print('')\n",
    "    time.sleep(1.5)\n",
    "    \n",
    "    for p in range(pages):\n",
    "\n",
    "        customer_id = [] # 사용자 id\n",
    "        rating = [] # 별점\n",
    "        title = [] # 리뷰 제목\n",
    "        country = [] # 리뷰가 작성된 국가\n",
    "        date = [] # 리뷰 작성일\n",
    "        content = [] # 리뷰 내용\n",
    "        helpful = [] # 리뷰가 유용하다고 평가한 사람 수\n",
    "\n",
    "        i = 2\n",
    "        total = 12 # 페이지 당 10개의 리뷰를 가져온다.\n",
    "\n",
    "        while i < total:\n",
    "            \n",
    "            try:\n",
    "                a = driver.find_element(By.XPATH, f'/html/body/div[1]/div[2]/div/div[1]/div/div[1]/div[5]/div[3]/div/div[{i}]')\n",
    "                time.sleep(1.5)\n",
    "                \n",
    "            except:\n",
    "                break\n",
    "\n",
    "            if a.text == '': # 미국이 아닌 다른 나라의 리뷰가 시작될 때는 공백 라인이 하나 들어가므로 패스한다.\n",
    "                total = 13\n",
    "                i += 1\n",
    "                continue\n",
    "\n",
    "            elif a.text == '이전\\n다음': # 마지막 페이지의 마지막 리뷰에 도달했을 때는 반복문에서 나간다.\n",
    "                break\n",
    "\n",
    "            else:\n",
    "\n",
    "                # 데이터 가져오기\n",
    "\n",
    "                # customer_id\n",
    "                cid = get_customer_id(i)\n",
    "                customer_id.append(cid)\n",
    "                time.sleep(1.5)\n",
    "\n",
    "                # rating\n",
    "                rt = get_rating(i)\n",
    "                rating.append(rt)\n",
    "                time.sleep(1.5)\n",
    "\n",
    "                # title\n",
    "                tt = get_title(i)\n",
    "                title.append(tt)\n",
    "                time.sleep(1.5)\n",
    "\n",
    "                # country & date\n",
    "                ct, dt = get_country_date(i)\n",
    "                country.append(ct)\n",
    "                date.append(dt)\n",
    "                time.sleep(1.5)\n",
    "\n",
    "                # content\n",
    "                co = get_content(i)\n",
    "                content.append(co)\n",
    "                time.sleep(1.5)\n",
    "\n",
    "                i += 1\n",
    "\n",
    "\n",
    "        # helpful\n",
    "        helpful = get_helpful()\n",
    "        time.sleep(1.5)\n",
    "\n",
    "        # 해당 페이지에서 가져온 데이터를 데이터프레임의 형태로 만들고, 이전에 가져온 데이터와 하나로 합쳐주기\n",
    "        df_new = pd.DataFrame({'customer_id': customer_id, 'rating': rating, 'title': title, 'country': country, 'date': date,\n",
    "                               'content': content, 'helpful': helpful})\n",
    "        df = pd.concat([df, df_new], axis=0, ignore_index=True)\n",
    "\n",
    "        # 다음 페이지로 이동 \n",
    "        if (p != 0) & (p % 5 == 0):\n",
    "            print(f'{p} pages done')\n",
    "        \n",
    "        try:\n",
    "            next_page = driver.find_element(By.CLASS_NAME, 'a-last')\n",
    "            next_page.click()\n",
    "            time.sleep(1.5)\n",
    "            \n",
    "        except:\n",
    "            break"
   ]
  },
  {
   "cell_type": "code",
   "execution_count": null,
   "id": "96a4d0d9",
   "metadata": {},
   "outputs": [],
   "source": [
    "# 중복된 행이 있으면 제거\n",
    "df.drop_duplicates(inplace=True, ignore_index=True)"
   ]
  },
  {
   "cell_type": "code",
   "execution_count": null,
   "id": "cc3afa4f",
   "metadata": {},
   "outputs": [],
   "source": [
    "# 가져온 데이터 확인\n",
    "df"
   ]
  },
  {
   "cell_type": "code",
   "execution_count": null,
   "id": "f44a50d1",
   "metadata": {},
   "outputs": [],
   "source": [
    "# csv 파일로 저장\n",
    "brand = 'HP' # 여기에 브랜드 이름을 입력하세요.\n",
    "product_name = 'OMEN i9-12900H' # 여기에 해당하는 제품을 입력하세요.\n",
    "df.to_csv(f'{brand}_{product_name}_reviews.csv', index=False)"
   ]
  },
  {
   "cell_type": "code",
   "execution_count": null,
   "id": "5cb7a1a5",
   "metadata": {},
   "outputs": [],
   "source": [
    "# 저장된 파일이 잘 읽히는지 확인\n",
    "pd.read_csv(f'{brand}_{product_name}_reviews.csv').head()"
   ]
  },
  {
   "cell_type": "code",
   "execution_count": null,
   "id": "5f00e113",
   "metadata": {},
   "outputs": [],
   "source": []
  }
 ],
 "metadata": {
  "kernelspec": {
   "display_name": "Python [conda env:base] *",
   "language": "python",
   "name": "conda-base-py"
  },
  "language_info": {
   "codemirror_mode": {
    "name": "ipython",
    "version": 3
   },
   "file_extension": ".py",
   "mimetype": "text/x-python",
   "name": "python",
   "nbconvert_exporter": "python",
   "pygments_lexer": "ipython3",
   "version": "3.12.7"
  },
  "toc": {
   "base_numbering": 1,
   "nav_menu": {},
   "number_sections": true,
   "sideBar": true,
   "skip_h1_title": false,
   "title_cell": "Table of Contents",
   "title_sidebar": "Contents",
   "toc_cell": false,
   "toc_position": {},
   "toc_section_display": true,
   "toc_window_display": false
  }
 },
 "nbformat": 4,
 "nbformat_minor": 5
}
